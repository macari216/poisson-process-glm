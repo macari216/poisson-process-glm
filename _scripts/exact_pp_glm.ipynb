{
 "cells": [
  {
   "cell_type": "markdown",
   "id": "d8295bb3-aeb7-4a1f-a099-06095b465839",
   "metadata": {},
   "source": [
    "## Exact in distribution simulations ofr Poisson Point Process\n",
    "\n",
    "Simulate the simplest inhomogeneous poisson point process that is non-trivial:\n",
    "\n",
    "1. A single pre-synaptic neuron\n",
    "2. Fixed time window of time ws\n",
    "3. Spikes of pre-synaptic neuron spaced out every 2*ws\n",
    "4. Every spikes contributes to the rate with a rectangular contribution $u(s) = 1$ if $0 < s \\leq \\Delta$ and 0 otherwise\n",
    "    The intensity is then $l(t) = l0 + \\sum_j u(t - 2 \\cdot \\Delta \\cdot j)$\n",
    "5. The cumulative intensity is $L(t) = \\int_0^t l(s) ds = l_0 \\cdot t + \\Delta \\cdot (t // (2 \\cdot \\Delta)) + \\Delta + \\text{relu}(t - \\Delta \\cdot (t // 20) - \\Delta)$\n",
    "6. The simulation follows Cinlar 1975, (the non-homogeneous process is a rescaled homogeneous one)"
   ]
  },
  {
   "cell_type": "code",
   "execution_count": 2,
   "id": "891e7e18-3c78-4171-a12f-c388a99b41d2",
   "metadata": {},
   "outputs": [],
   "source": [
    "from copy import deepcopy\n",
    "from functools import partial\n",
    "\n",
    "import numpy as np\n",
    "import jax.numpy as jnp\n",
    "import jax\n",
    "import matplotlib.pyplot as plt\n",
    "from numba.np.npyfuncs import np_real_mod_impl\n",
    "from scipy.integrate import simpson\n",
    "from scipy.optimize import bisect\n",
    "from jaxopt import ProjectedGradient, projection\n",
    "\n",
    "\n",
    "def simulate_process(t_max, cumul_intensity, seed=123):\n",
    "    \"\"\"\n",
    "    Exact simulation of inhomogeneous Poisson Point process\n",
    "    by temporal re-scaling method. Cinlar 1975.\n",
    "    \"\"\"\n",
    "    np.random.seed(seed)\n",
    "    spike_times = []\n",
    "    s = 0\n",
    "    step_for_bisect = t_max / 100.\n",
    "    t0 = 0\n",
    "    upper = step_for_bisect\n",
    "    while t0 < t_max:\n",
    "        uni = np.random.uniform()\n",
    "        s = s - np.log(uni)\n",
    "        # very ugly way to be over the optimum\n",
    "        # but bisect is very fast and accurate.\n",
    "        while cumul_intensity(upper) < s:\n",
    "            upper = upper + step_for_bisect\n",
    "        spike_times.append(\n",
    "            bisect(lambda x: cumul_intensity(x) - s, upper - step_for_bisect, upper, xtol=10**-14)\n",
    "        )\n",
    "        upper = upper - step_for_bisect\n",
    "        t0 = spike_times[-1]\n",
    "    spike_times = np.array(spike_times)\n",
    "    return spike_times[spike_times < t_max]\n",
    "\n",
    "# implementation of the intensity and cumulative intensity - [4, 5] above.\n",
    "intensity = lambda t, l0, ws: l0 + ((t % (2 * ws)) > ws).astype(float)\n",
    "cumulative_intensity = lambda t, l0, ws: l0*t + ws * (t // (2 * ws)) + jax.nn.relu(t - 2 * ws * (t // 20) - ws)\n",
    "\n"
   ]
  },
  {
   "cell_type": "markdown",
   "id": "abecd7e0-f532-41b4-b7ce-f4b2c3f48f33",
   "metadata": {},
   "source": [
    "Check the cumulative intensity calculation by integrating numerically the instantaneous rate."
   ]
  },
  {
   "cell_type": "code",
   "execution_count": 3,
   "id": "4b42f7ab-6f55-4f60-9248-788d8159ceda",
   "metadata": {},
   "outputs": [
    {
     "data": {
      "image/png": "[encoded data removed]",
      "text/plain": [
       "<Figure size 640x480 with 1 Axes>"
      ]
     },
     "metadata": {},
     "output_type": "display_data"
    },
    {
     "name": "stdout",
     "output_type": "stream",
     "text": [
      "numerical check that cumulative intesity is correct: -9.1552734e-05\n"
     ]
    }
   ],
   "source": [
    "# params\n",
    "l0 = 0.1 # this is l_0 in the eqn 4,5\n",
    "ws = 10. # this is \\Delta in the equation 4,5 (duration of the window)\n",
    "\n",
    "\n",
    "n_samples = 1000000\n",
    "time = np.linspace(0, 55, n_samples)\n",
    "\n",
    "\n",
    "plt.plot(time, intensity(time, l0, ws))\n",
    "plt.xlim(0,55)\n",
    "plt.show()\n",
    "\n",
    "\n",
    "approx = simpson(intensity(time, l0, ws), x=time)\n",
    "true = cumulative_intensity(time[-1], l0, ws)\n",
    "print(\"numerical check that cumulative intesity is correct:\", approx - true)\n"
   ]
  },
  {
   "cell_type": "markdown",
   "id": "8cce5fc2-c607-49f3-a039-2c2244104b6b",
   "metadata": {},
   "source": [
    "## Run exact simulations"
   ]
  },
  {
   "cell_type": "code",
   "execution_count": 4,
   "id": "598dee2f-ca82-4f7d-8805-1ea9f173d726",
   "metadata": {},
   "outputs": [
    {
     "data": {
      "text/plain": [
       "(0.0, 55.0)"
      ]
     },
     "execution_count": 4,
     "metadata": {},
     "output_type": "execute_result"
    },
    {
     "data": {
      "image/png": "[encoded data removed]",
      "text/plain": [
       "<Figure size 640x480 with 1 Axes>"
      ]
     },
     "metadata": {},
     "output_type": "display_data"
    }
   ],
   "source": [
    "T = 5000\n",
    "\n",
    "# pre-synaptic is just a metronome spiking every 2*ws\n",
    "pre_synaptic = np.arange(ws, T, 2*ws).astype(float)\n",
    "# simulate spikes\n",
    "spike_times = simulate_process(T, lambda x: cumulative_intensity(x, l0, ws))\n",
    "\n",
    "plt.vlines(spike_times, 0.,0.1, \"k\")\n",
    "plt.plot(np.linspace(0, T, 10**5), intensity(np.linspace(0, T, 10**5), l0, ws))\n",
    "plt.xlim(0,55)"
   ]
  },
  {
   "cell_type": "markdown",
   "id": "a298a617-9391-40fd-8132-3c196725c311",
   "metadata": {},
   "source": [
    "## Fit An Exact Maximum Likelihood Estimate\n",
    "Now, since we have the analytical intensity and cumulative intensity we can fit an exact ML to the Point Process with identity link, this can be used for testing implementations."
   ]
  },
  {
   "cell_type": "code",
   "execution_count": 6,
   "id": "fea5771c-f588-4769-92cc-575d07c40fbc",
   "metadata": {},
   "outputs": [
    {
     "name": "stdout",
     "output_type": "stream",
     "text": [
      "recovered params [0.0939246 0.9831332]\n"
     ]
    }
   ],
   "source": [
    "# jit-compilable \n",
    "parametric_intensity = lambda t, params, ws: params[0] + params[1] * jnp.asarray((t % (2 * ws)) > ws, dtype=float)\n",
    "parametric_cumul = lambda t, params, ws: params[0] * t + params[1] * (ws * (t // (2 * ws)) + jax.nn.relu(t - 2 * ws * (t // 20) - ws))\n",
    "\n",
    "jit_parametric_intensity = jax.jit(parametric_intensity)\n",
    "jit_parametric_cumul = jax.jit(parametric_cumul)\n",
    "\n",
    "@jax.jit\n",
    "def neg_log_likelihood(params, window_size, post_synaptic, tmax):\n",
    "    log_lam = jnp.log(jit_parametric_intensity(post_synaptic, params, window_size))\n",
    "    return  jit_parametric_cumul(tmax, params, window_size) / log_lam.shape[0]  - log_lam.mean()\n",
    "\n",
    "p0 = jnp.asarray([1, 2], dtype=float)\n",
    "pg = ProjectedGradient(fun=neg_log_likelihood, projection=projection.projection_box)\n",
    "pp_fit = pg.run(p0, (1E-6, jnp.inf), window_size=ws, post_synaptic=spike_times, tmax=T)\n",
    "\n",
    "print(\"recovered params\", pp_fit[0])\n"
   ]
  },
  {
   "cell_type": "markdown",
   "id": "7a18c1f0-9baa-4bfc-be27-8c4b7df718df",
   "metadata": {},
   "source": [
    "Compare with a regular GLM"
   ]
  },
  {
   "cell_type": "code",
   "execution_count": 8,
   "id": "5fdead0b-8269-4968-b9c0-b45641225326",
   "metadata": {},
   "outputs": [
    {
     "name": "stderr",
     "output_type": "stream",
     "text": [
      "/Users/ebalzani/Code/pynapple/pynapple/core/utils.py:196: UserWarning: Converting 'd' to numpy.array. The provided array was of type 'ArrayImpl'.\n",
      "  warnings.warn(\n"
     ]
    },
    {
     "data": {
      "image/png": "[encoded data removed]",
      "text/plain": [
       "<Figure size 640x480 with 1 Axes>"
      ]
     },
     "metadata": {},
     "output_type": "display_data"
    }
   ],
   "source": [
    "import pynapple as nap\n",
    "import nemos as nmo\n",
    "jax.config.update(\"jax_enable_x64\", True)\n",
    "\n",
    "bin_size = 0.001\n",
    "count = nap.Ts(spike_times).count(bin_size).astype(float)\n",
    "time = np.linspace(0, T, 10**6)\n",
    "feature = count.value_from(nap.Tsd(time, intensity(time, l0, ws)))[:, None].astype(float)\n",
    "feature = feature - feature[0,0] + 1 # make non-zero (log(feature  *w) in the poisson)\n",
    "\n",
    "# risky, no projection available but should work on fake data\n",
    "model = nmo.glm.GLM(observation_model=nmo.observation_models.PoissonObservations(lambda x:x)).fit(feature, count)\n",
    "pred_rate = model.predict(feature)/bin_size\n",
    "plt.figure()\n",
    "plt.title(\"compare predicted rate\")\n",
    "plt.plot(time, intensity(time, l0, ws), label=\"actual rate\")\n",
    "plt.plot(pred_rate, label=\"regular glm rate prediction\")\n",
    "plt.plot(time, jit_parametric_intensity(time, pp_fit[0], ws), label=\"point-process GLM\")\n",
    "plt.xlim(0, 50)\n",
    "plt.ylim(0, 2)\n",
    "plt.legend()\n",
    "plt.show()"
   ]
  },
  {
   "cell_type": "markdown",
   "id": "532c8043-943f-4cd5-86d4-861c02e39b5b",
   "metadata": {},
   "source": [
    "## Exact GLM for Identity Link\n",
    "Now we will generalize this construction to fit an exact Point Process GLM under the following assumptions:\n",
    "\n",
    "- Identity link function.\n",
    "- Non-negative basis.\n",
    "- Fit using projected gradient or other constrained optimization to ensure non-negative rate. If $n$ BSplines are used then we have $n+1$ weights $\\mathbf{w}$ includig the intercept. Since $\\sum b_k(t) = 1$ for all $t$ in the domain of the basis, convolving the spike times with $f(t) = \\begin{cases} 1 && 0\\le t\\le\\Delta \\\\ 0 && \\text{otherwise}\\end{cases}$, and taking the max of the convolution with the spike times, i.e. $m = \\max_t f(t) * \\delta(t_j - t)$, than, for a positive rate it is sufficeint that: $m \\cdot \\sum_{i=1}^{n+1} w_i < w_0$\n",
    "\n",
    "This construction can be easily generalized to N neurons, but let's start assuming a single pre-synaptic and post-synaptic neuron for simplicity.\n",
    "Let $\\Phi(t) = [b_1(t), ..., b_n(t)]$ a vector of $n$ basis fuctions such as $b_k(t) \\ge 0$. All the basis have support contained in $[0, \\Delta)$.\n",
    "\n",
    "The log likelihood takes the form\n",
    "$$\n",
    "\\mathcal{L} = \\sum \\log(l(t_k)) - \\int_0^T \\log(l(t)) \\, dt = \\sum \\log(l(t_k)) - L(T)\n",
    "$$\n",
    "### Cumulative Intensity Function\n",
    "If we have an identity link function and assume positive weights $\\mathbf{w} \\in \\mathbb{R}^{n+1}$ satisfying the condition for non positve rates, for the basis plua intercept, then the intensity function is\n",
    "\n",
    "$$\n",
    "\\begin{aligned}\n",
    "L(t) &= \\int_0^t \\mathbf{w} \\cdot \\Phi (s) \\, ds \\\\\n",
    "     &= \\mathbf{w} \\cdot \\left[ \\sum_{\\{i:\\; t-t_i < \\Delta\\}} \\int_0^\\Delta \\Phi (s) \\, ds + \\sum_{\\{i:\\; t - t_i \\ge \\Delta \\}} \\int_0^{\\Delta - t_i} \\Phi (s) \\, ds \\right] \\\\\n",
    "     &= \\mathbf{w} \\cdot \\left[N \\cdot I + M \\cdot \\int_0^{t - t_{i_{M}}} \\Phi(s) \\, ds +  (M-1) \\cdot \\int_{t - t_{i_{M}}}^{t - t_{i_{M-1}}} \\Phi(s) \\, ds + ... + \\int_{t - t_{i_{2}}}^{t - t_{i_{1}}} \\Phi(s) \\, ds\\right]\n",
    "\\end{aligned}\n",
    "$$\n",
    "Here, $t-\\Delta < t_{i_{1}} < t_{i_{2}} < ... < t_{i_{M}} < t$ are the sorted pre-synaptic spikes happeing in $[t-\\Delta, t]$, $N= | \\{ i: \\; t-t_i < \\Delta\\} |$, $I =  \\int_0^\\Delta \\Phi (s) \\, ds$.\n",
    "\n",
    "\n",
    "Note that for the likelihood we only need $L(T)$ where $T$ is the duration of the experiment, so we can compute quickly and easily all the integrals above as long as we know how to inegrate exactly $\\Phi (s)$. If, for example, we use BSplines, we can compute the integral anaytically from the recursion or simply use the simpson method evaluated on the BSpline knots to get an exact integral. \n",
    "\n",
    "Once we have that, we can compute exactly what is in the squared parenthesis of the equaiton above and store the $n$ dimensional vector. Note that if we have multiple pre-synaptic neuron nothing change, except that we will have a matrix of weights instead of a single vector. Computing the normalization constant is now simply a dot product.\n",
    "\n",
    "### Intensity Calculation\n",
    "For the intensity the `scan`-based code we have should do the job just fine, but the idea here would be, for every post-synaptic spikes, pre-compute all the delta with pre-synaptic spikes that follows within a window, then evaluate the basis at those time deltas to get a tensor with $ R \\times D \\times n$ values, where $R$ is the number of post-synaptic spikes, $D$ is the max number of pre-synaptic spikes that falls within any window of duration $\\Delta$ preceding any post-synaptic spikes, and $n$ is the nuber of basis. Use NaNs wheh if there are less than $D$ spikes.\n",
    "\n",
    "This padding is needed to make everything tensorial and compilable."
   ]
  },
  {
   "cell_type": "code",
   "execution_count": null,
   "id": "68ebc258-8175-4886-9060-96aa0b6957a5",
   "metadata": {},
   "outputs": [],
   "source": []
  },
  {
   "cell_type": "code",
   "execution_count": null,
   "id": "971c90c0-b74c-4af4-891b-605aa28d8fe6",
   "metadata": {},
   "outputs": [],
   "source": []
  }
 ],
 "metadata": {
  "kernelspec": {
   "display_name": "Python (nemos)",
   "language": "python",
   "name": "nemos"
  },
  "language_info": {
   "codemirror_mode": {
    "name": "ipython",
    "version": 3
   },
   "file_extension": ".py",
   "mimetype": "text/x-python",
   "name": "python",
   "nbconvert_exporter": "python",
   "pygments_lexer": "ipython3",
   "version": "3.10.11"
  }
 },
 "nbformat": 4,
 "nbformat_minor": 5
}
